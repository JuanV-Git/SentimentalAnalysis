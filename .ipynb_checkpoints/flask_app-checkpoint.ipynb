{
 "cells": [
  {
   "cell_type": "code",
   "execution_count": 1,
   "id": "3c96a0f5",
   "metadata": {},
   "outputs": [],
   "source": [
    "import webbrowser\n",
    "import joblib\n",
    "import pickle\n",
    "import cloudpickle\n",
    "from flask import Flask, render_template, request\n"
   ]
  },
  {
   "cell_type": "code",
   "execution_count": 2,
   "id": "1408d5b4",
   "metadata": {},
   "outputs": [],
   "source": [
    "app = Flask(__name__)\n",
    "\n",
    " "
   ]
  },
  {
   "cell_type": "code",
   "execution_count": 3,
   "id": "72e7bfa7",
   "metadata": {},
   "outputs": [],
   "source": [
    "def detection(model, x):\n",
    "    x = str(x)\n",
    "    resultado = model.predict([x])[0]\n",
    "    proba = model.predict_proba([x])\n",
    "    if len(x) <=5:\n",
    "        resultado = \"frase muy corta\"\n",
    "    elif resultado == 0:\n",
    "        resultado = f'Sentimiento negativo{proba.round(2)}'\n",
    "    elif resultado == 1:\n",
    "        resultado = f'Sentimiento positivo{proba.round(2)}'\n",
    "    return resultado\n",
    "\n",
    "        \n"
   ]
  },
  {
   "cell_type": "code",
   "execution_count": 4,
   "id": "a619eeb7",
   "metadata": {},
   "outputs": [],
   "source": [
    "@app.route('/', methods=['POST', 'GET'])\n",
    "def main_app():\n",
    "    try:\n",
    "        result = request.form\n",
    "        if request.method == 'POST':\n",
    "            dict_result = dict(result)\n",
    "            text = dict_result['text_to_predict']\n",
    "            pred = detection(model, text)\n",
    "        else:\n",
    "            pred = None\n",
    "        return render_template('index.html', result={'resultado': pred.upper()})\n",
    "    except:\n",
    "        return render_template('index.html', result={'resultado': None})\n",
    "\n"
   ]
  },
  {
   "cell_type": "code",
   "execution_count": null,
   "id": "39d91a22",
   "metadata": {},
   "outputs": [
    {
     "name": "stdout",
     "output_type": "stream",
     "text": [
      " * Serving Flask app \"__main__\" (lazy loading)\n",
      " * Environment: production\n",
      "\u001b[31m   WARNING: This is a development server. Do not use it in a production deployment.\u001b[0m\n",
      "\u001b[2m   Use a production WSGI server instead.\u001b[0m\n",
      " * Debug mode: off\n"
     ]
    },
    {
     "name": "stderr",
     "output_type": "stream",
     "text": [
      " * Running on http://127.0.0.1:5000/ (Press CTRL+C to quit)\n",
      "127.0.0.1 - - [10/Oct/2022 22:38:28] \"GET / HTTP/1.1\" 200 -\n",
      "127.0.0.1 - - [10/Oct/2022 22:38:31] \"POST / HTTP/1.1\" 200 -\n"
     ]
    }
   ],
   "source": [
    "stemmed_words = cloudpickle.load(open('./models/stemmed_words.pkl','rb'))\n",
    "if __name__ == '__main__':\n",
    "#    model = joblib.load('models/model.pkl')\n",
    "    model = joblib.load(open('./models/model_rf.pkl', 'rb'))\n",
    "#    stemmed_words = cloudpickle.load(open('../stemmed_words.pkl','rb'))\n",
    "    url = \"http://localhost:5000\"\n",
    "    webbrowser.open_new(url)\n",
    "    app.run()"
   ]
  },
  {
   "cell_type": "code",
   "execution_count": null,
   "id": "d5c871fe",
   "metadata": {},
   "outputs": [],
   "source": [
    "#with open('../Predecir_Sentimiento/models/model2.pkl', 'rb') as modelo2:\n",
    "#    model_rf = pickle.load(modelo2)  \n",
    "\n",
    "#model = joblib.load(open('./models/model2.pkl', 'rb'))\n",
    "#stemmed_words = cloudpickle.load(open('../stemmed_words.pkl','rb')) "
   ]
  },
  {
   "cell_type": "code",
   "execution_count": null,
   "id": "56bd9856",
   "metadata": {},
   "outputs": [],
   "source": []
  },
  {
   "cell_type": "code",
   "execution_count": null,
   "id": "b63c5e67",
   "metadata": {},
   "outputs": [],
   "source": []
  }
 ],
 "metadata": {
  "kernelspec": {
   "display_name": "Python [conda env:dhdsblend2021] *",
   "language": "python",
   "name": "conda-env-dhdsblend2021-py"
  },
  "language_info": {
   "codemirror_mode": {
    "name": "ipython",
    "version": 3
   },
   "file_extension": ".py",
   "mimetype": "text/x-python",
   "name": "python",
   "nbconvert_exporter": "python",
   "pygments_lexer": "ipython3",
   "version": "3.8.13"
  }
 },
 "nbformat": 4,
 "nbformat_minor": 5
}
